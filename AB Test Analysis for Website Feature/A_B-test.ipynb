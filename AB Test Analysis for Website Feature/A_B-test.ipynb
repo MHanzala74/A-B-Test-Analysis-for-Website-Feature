{
 "cells": [
  {
   "cell_type": "code",
   "execution_count": null,
   "id": "5e7a66df",
   "metadata": {},
   "outputs": [],
   "source": [
    "import pandas as pd\n",
    "import numpy as np\n",
    "from datetime import datetime, timedelta"
   ]
  },
  {
   "cell_type": "code",
   "execution_count": null,
   "id": "8a0e2603",
   "metadata": {},
   "outputs": [],
   "source": [
    "# Generate mock A/B test data\n",
    "np.random.seed(42)\n",
    "num_users_per_group = 5000\n",
    "start_date = datetime(2023, 11, 1)\n",
    "test_duration_days = 14 # 2 week test"
   ]
  },
  {
   "cell_type": "code",
   "execution_count": null,
   "id": "9e52aa2f",
   "metadata": {},
   "outputs": [],
   "source": [
    "# Control Group (A)\n",
    "control_user_ids = [f'UserA_{10000+i}' for i in range(num_users_per_group)]\n",
    "control_group_assignment = ['Control'] * num_users_per_group\n",
    "# Assume a baseline conversion rate of 10% for control\n",
    "control_conversions = np.random.binomial(1, 0.10, num_users_per_group)\n",
    "control_clicks = np.random.randint(0, 15, num_users_per_group) # Clicks per user\n",
    "control_page_views = control_clicks + np.random.randint(1, 5, num_users_per_group) # Page views > clicks\n",
    "control_page_views = np.maximum(1, control_page_views) # At least 1 page view"
   ]
  },
  {
   "cell_type": "code",
   "execution_count": null,
   "id": "64bee9a3",
   "metadata": {},
   "outputs": [],
   "source": [
    "# Treatment Group (B) - let's assume a slight lift\n",
    "treatment_user_ids = [f'UserB_{20000+i}' for i in range(num_users_per_group)]\n",
    "treatment_group_assignment = ['Treatment'] * num_users_per_group\n",
    "# Assume a target conversion rate of 11.5% for treatment (1.5% lift)\n",
    "treatment_conversions = np.random.binomial(1, 0.115, num_users_per_group)\n",
    "treatment_clicks = np.random.randint(0, 17, num_users_per_group) # Slightly more clicks\n",
    "treatment_page_views = treatment_clicks + np.random.randint(1, 5, num_users_per_group)\n",
    "treatment_page_views = np.maximum(1, treatment_page_views)"
   ]
  },
  {
   "cell_type": "code",
   "execution_count": null,
   "id": "9a26f356",
   "metadata": {},
   "outputs": [],
   "source": [
    "# Combine data\n",
    "all_user_ids = control_user_ids + treatment_user_ids\n",
    "all_groups = control_group_assignment + treatment_group_assignment\n",
    "all_conversions = np.concatenate([control_conversions, treatment_conversions])\n",
    "all_clicks = np.concatenate([control_clicks, treatment_clicks])\n",
    "all_page_views = np.concatenate([control_page_views, treatment_page_views])"
   ]
  },
  {
   "cell_type": "code",
   "execution_count": null,
   "id": "0e81836c",
   "metadata": {},
   "outputs": [],
   "source": [
    "# Assign random dates within the test period\n",
    "all_dates = [ (start_date + timedelta(days=np.random.randint(0, test_duration_days))).strftime('%Y-%m-%d')for _ in range(num_users_per_group * 2) ]"
   ]
  },
  {
   "cell_type": "code",
   "execution_count": null,
   "id": "d9881aeb",
   "metadata": {},
   "outputs": [],
   "source": [
    "df_ab_test = pd.DataFrame({\n",
    "    'UserID': all_user_ids,\n",
    "    'Group': all_groups,\n",
    "    'Date': all_dates,\n",
    "    'PageViews': all_page_views,\n",
    "    'Clicks': all_clicks,\n",
    "    'Converted': all_conversions\n",
    "})"
   ]
  },
  {
   "cell_type": "code",
   "execution_count": null,
   "id": "0865ff68",
   "metadata": {},
   "outputs": [],
   "source": [
    "# Ensure clicks are not more than page views (though unlikely with current generation)\n",
    "df_ab_test['Clicks'] = df_ab_test.apply(lambda row: min(row['Clicks'], row['PageViews']), axis=1)"
   ]
  },
  {
   "cell_type": "code",
   "execution_count": null,
   "id": "b22cb425",
   "metadata": {},
   "outputs": [],
   "source": [
    "#Save to CSV\n",
    "df_ab_test.to_csv('ab_test_results_mock_data.csv', index=False)"
   ]
  },
  {
   "cell_type": "code",
   "execution_count": null,
   "id": "b0cc80dd",
   "metadata": {},
   "outputs": [],
   "source": [
    "df=pd.read_csv('ab_test_results_mock_data.csv')"
   ]
  },
  {
   "cell_type": "code",
   "execution_count": null,
   "id": "7f1b7153",
   "metadata": {},
   "outputs": [],
   "source": [
    "print(df.sample(10, random_state=42))"
   ]
  },
  {
   "cell_type": "code",
   "execution_count": null,
   "id": "08411b11",
   "metadata": {},
   "outputs": [],
   "source": [
    "# Duplicate user across group \n",
    "duplicates=df.groupby('UserID')['Group'].nunique()\n",
    "users_in_both_groups=duplicates[duplicates>1]\n",
    "print(users_in_both_groups)"
   ]
  },
  {
   "cell_type": "code",
   "execution_count": null,
   "id": "6e9210a2",
   "metadata": {},
   "outputs": [],
   "source": [
    "# check missing value \n",
    "df.isnull().sum()"
   ]
  },
  {
   "cell_type": "code",
   "execution_count": null,
   "id": "d3e6bc7a",
   "metadata": {},
   "outputs": [],
   "source": [
    "df.describe()"
   ]
  },
  {
   "cell_type": "code",
   "execution_count": null,
   "id": "581120fd",
   "metadata": {},
   "outputs": [],
   "source": [
    "import matplotlib.pyplot as plt\n",
    "\n",
    "plt.figure(figsize=(6,4))\n",
    "plt.boxplot(df['PageViews'])\n",
    "plt.title('Boxplot of PageViews')\n",
    "plt.show()\n",
    "\n",
    "plt.figure(figsize=(6,4))\n",
    "plt.boxplot(df['Clicks'])\n",
    "plt.title('Boxplot of Clicks')\n",
    "plt.show()\n"
   ]
  },
  {
   "cell_type": "code",
   "execution_count": null,
   "id": "8cd589f7",
   "metadata": {},
   "outputs": [],
   "source": [
    "# Ensure correct assignment of users to groups\n",
    "print(df.groupby('Group')['UserID'].nunique())"
   ]
  },
  {
   "cell_type": "code",
   "execution_count": null,
   "id": "2b579ed1",
   "metadata": {},
   "outputs": [],
   "source": [
    "df.head()"
   ]
  },
  {
   "cell_type": "code",
   "execution_count": null,
   "id": "695e6a81",
   "metadata": {},
   "outputs": [],
   "source": [
    "# Control Group Conversion Rate \n",
    "control_converted=df[df['Group']== 'Control']['Converted'].sum()\n",
    "control_total=len(df[df['Group']=='Control'])\n",
    "control_rate=(control_converted/control_total)*100"
   ]
  },
  {
   "cell_type": "code",
   "execution_count": null,
   "id": "103ffa22",
   "metadata": {},
   "outputs": [],
   "source": [
    "# Treatment Group Conversion Rate \n",
    "Treatment_converted=df[df['Group']=='Treatment']['Converted'].sum()\n",
    "Treatment_total=len(df[df['Group']=='Treatment'])\n",
    "Treatment_rate=(Treatment_converted/Treatment_total)*100"
   ]
  },
  {
   "cell_type": "code",
   "execution_count": null,
   "id": "9199ae08",
   "metadata": {},
   "outputs": [],
   "source": [
    "print(f'Control Group conversion rate: {control_rate }%')\n",
    "print(f'Treatment Group conversion rate: {Treatment_rate }%')"
   ]
  },
  {
   "cell_type": "code",
   "execution_count": null,
   "id": "20afe6a4",
   "metadata": {},
   "outputs": [],
   "source": [
    "# Difference between two groups \n",
    "difference = Treatment_rate-control_rate\n",
    "print(\"Difference between control and Treatment Group\",difference)"
   ]
  },
  {
   "cell_type": "code",
   "execution_count": null,
   "id": "0b883cda",
   "metadata": {},
   "outputs": [],
   "source": [
    "print(df.head())\n",
    "print(df.tail())"
   ]
  },
  {
   "cell_type": "code",
   "execution_count": null,
   "id": "dd7257ef",
   "metadata": {},
   "outputs": [],
   "source": [
    "from statsmodels.stats.proportion import proportion_confint,proportions_ztest\n",
    "control_converted,control_total=200,5000\n",
    "treatment_converted, treatment_total=250,5000\n",
    "\n",
    "# Z-test \n",
    "count=np.array([control_converted,treatment_converted])\n",
    "nobs=np.array([control_total,treatment_total])\n",
    "z_stats,p_value=proportions_ztest(count,nobs,alternative='two-sided')\n",
    "\n",
    "print(\"P-value\",p_value)\n",
    "if p_value < 0.05:\n",
    "    print(\"Result: The difference is significant (treatment is better)!\")\n",
    "else:\n",
    "    print(\"Conclusion: The difference is not significant.\")\n",
    "\n",
    "\n",
    "ci_control = proportion_confint(control_converted, control_total, alpha=0.05)\n",
    "ci_treatment = proportion_confint(treatment_converted, treatment_total, alpha=0.05)\n",
    "print(f\"\\n Control CI: {ci_control[0]:.3%} to {ci_control[1]:.3%}\")\n",
    "print(f\"Treatment CI: {ci_treatment[0]:.3%} to {ci_treatment[1]:.3%}\")"
   ]
  },
  {
   "cell_type": "code",
   "execution_count": null,
   "id": "592d5b0c",
   "metadata": {},
   "outputs": [],
   "source": [
    "from statsmodels.stats.power import NormalIndPower\n",
    "from statsmodels.stats.proportion import proportion_effectsize\n",
    "\n",
    "# Parameters\n",
    "control_rate = 9.58\n",
    "treatment_rate = 11.79\n",
    "alpha = 0.05\n",
    "power = 0.8\n",
    "\n",
    "# Effect size\n",
    "effect_size = proportion_effectsize(control_rate, treatment_rate)\n",
    "\n",
    "# Calculate required sample size per group\n",
    "analysis = NormalIndPower()\n",
    "sample_size = analysis.solve_power(effect_size=effect_size, power=power, alpha=alpha, ratio=1, alternative='two-sided')\n",
    "\n",
    "print(f\"Required sample size per group to detect 1.5% uplift with 80% power: {(sample_size)}\")\n"
   ]
  },
  {
   "cell_type": "code",
   "execution_count": null,
   "id": "92c850c8",
   "metadata": {},
   "outputs": [],
   "source": [
    "print(\"\\n--- Interpretation & Recommendation ---\")\n",
    "if p_value < 0.05:\n",
    "    print(\" Conversion uplift is statistically significant.\")\n",
    "    if difference >= 1.0:\n",
    "        print(f\" Uplift of {difference:.2f}% seems practically meaningful. Consider rolling out the feature.\")\n",
    "    else:\n",
    "        print(f\" Although statistically significant, uplift of {difference:.2f}% may not be practically meaningful. Consider testing further.\")\n",
    "else:\n",
    "    print(\" No statistically significant difference found.\")\n",
    "    print(\"Suggestion: Either increase test duration/sample size or iterate on the feature.\")\n"
   ]
  }
 ],
 "metadata": {
  "kernelspec": {
   "display_name": "Python 3",
   "language": "python",
   "name": "python3"
  },
  "language_info": {
   "codemirror_mode": {
    "name": "ipython",
    "version": 3
   },
   "file_extension": ".py",
   "mimetype": "text/x-python",
   "name": "python",
   "nbconvert_exporter": "python",
   "pygments_lexer": "ipython3",
   "version": "3.11.9"
  }
 },
 "nbformat": 4,
 "nbformat_minor": 5
}
